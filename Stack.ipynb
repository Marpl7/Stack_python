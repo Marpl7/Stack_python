{
 "cells": [
  {
   "cell_type": "code",
   "execution_count": null,
   "metadata": {},
   "outputs": [],
   "source": [
    "class Stack:\n",
    "    def __init__(self):\n",
    "         self.items = []\n",
    "\n",
    "    def isEmpty(self):\n",
    "        if len(self.items) == 0:\n",
    "            return True\n",
    "        else:\n",
    "            return False\n",
    "\n",
    "    def push(self, item):\n",
    "         self.items.append(item)\n",
    "\n",
    "    def pop(self):\n",
    "        return self.items.pop()\n",
    "\n",
    "    def peek(self):\n",
    "         return self.items[-1]\n",
    "\n",
    "    def size(self):\n",
    "         return len(self.items)"
   ]
  },
  {
   "cell_type": "code",
   "execution_count": null,
   "metadata": {},
   "outputs": [],
   "source": [
    "def check_brackets(string):\n",
    "    \n",
    "    string = string.replace(' ', '')\n",
    "    brackets = {}\n",
    "    brackets[')'] = '('\n",
    "    brackets['}'] = '{'\n",
    "    brackets[']'] = '['\n",
    "    brackets['>'] = '<'\n",
    "\n",
    "    br_stack = Stack()\n",
    "    \n",
    "    if len(string)%2 != 0:\n",
    "        print('Несбалансированно')\n",
    "        return False\n",
    "\n",
    "    for s in string:\n",
    "        if s in brackets.values():\n",
    "            br_stack.push(s)\n",
    "        elif s in brackets.keys() and br_stack.isEmpty():\n",
    "            print('Несбалансированно')\n",
    "            return False\n",
    "        elif s in brackets.keys() and br_stack.peek() == brackets[s]:\n",
    "            br_stack.pop()\n",
    "        else:\n",
    "            print('Несбалансированно')\n",
    "            return False\n",
    "        \n",
    "            \n",
    "    if br_stack.isEmpty():\n",
    "        print('Cбалансированно')\n",
    "        return True\n",
    "    else:\n",
    "        print('Несбалансированно')\n",
    "        return False\n",
    "        \n",
    "        \n",
    "        "
   ]
  },
  {
   "cell_type": "code",
   "execution_count": null,
   "metadata": {},
   "outputs": [],
   "source": [
    "# line = '[[{())}]'\n",
    "# line = '[([])((([[[]]])))]{()}'\n",
    "line = '{{[(])]}}'\n",
    "\n",
    "check_brackets(line)"
   ]
  }
 ],
 "metadata": {
  "kernelspec": {
   "display_name": "Python 3",
   "language": "python",
   "name": "python3"
  },
  "language_info": {
   "codemirror_mode": {
    "name": "ipython",
    "version": 3
   },
   "file_extension": ".py",
   "mimetype": "text/x-python",
   "name": "python",
   "nbconvert_exporter": "python",
   "pygments_lexer": "ipython3",
   "version": "3.7.6"
  }
 },
 "nbformat": 4,
 "nbformat_minor": 4
}
